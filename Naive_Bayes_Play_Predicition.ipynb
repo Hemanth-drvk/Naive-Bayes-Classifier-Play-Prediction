{
 "cells": [
  {
   "cell_type": "markdown",
   "metadata": {},
   "source": [
    "# Naïve Bayes classifier to determine if a person is likely to Play Tennis"
   ]
  },
  {
   "cell_type": "markdown",
   "metadata": {},
   "source": [
    "### Classifier with labels "
   ]
  },
  {
   "cell_type": "markdown",
   "metadata": {},
   "source": [
    " - Yes = 1, No = 0 <br>\n",
    " - Sunny = 0, Overcast = 1, Rain = 2<br>\n",
    " - Hot = 0, Mild = 1, Cool = 2 <br>\n",
    " - Normal = 0, High = 1 <br>\n",
    " - Weak = 0, Strong = 1 <br>"
   ]
  },
  {
   "cell_type": "code",
   "execution_count": 1,
   "metadata": {},
   "outputs": [
    {
     "name": "stdout",
     "output_type": "stream",
     "text": [
      "{0: 0.02057142857142857, 1: 0.005291005291005291}\n"
     ]
    }
   ],
   "source": [
    "import numpy as np\n",
    "from collections import Counter, defaultdict\n",
    " \n",
    "def occurrences(list1):\n",
    "    no_of_examples = len(list1)\n",
    "    prob = dict(Counter(list1))\n",
    "    for key in prob.keys():\n",
    "        prob[key] = prob[key] / float(no_of_examples)\n",
    "    return prob\n",
    " \n",
    "def naive_bayes(training, outcome, new_sample):\n",
    "    classes     = np.unique(outcome)\n",
    "    rows, cols  = np.shape(training)\n",
    "    likelihoods = {}\n",
    "    for cls in classes:\n",
    "        likelihoods[cls] = defaultdict(list)\n",
    " \n",
    "    class_probabilities = occurrences(outcome)\n",
    " \n",
    "    for cls in classes:\n",
    "        row_indices = np.where(outcome == cls)[0]\n",
    "        subset      = training[row_indices, :]\n",
    "        r, c        = np.shape(subset)\n",
    "        for j in range(0,c):\n",
    "            likelihoods[cls][j] += list(subset[:,j])\n",
    " \n",
    "    for cls in classes:\n",
    "        for j in range(0,cols):\n",
    "             likelihoods[cls][j] = occurrences(likelihoods[cls][j])\n",
    " \n",
    "    results = {}\n",
    "    for cls in classes:\n",
    "         class_probability = class_probabilities[cls]\n",
    "         for i in range(0,len(new_sample)):\n",
    "             relative_values = likelihoods[cls][i]\n",
    "             if new_sample[i] in relative_values.keys():\n",
    "                 class_probability *= relative_values[new_sample[i]]\n",
    "             else:\n",
    "                 class_probability *= 0\n",
    "             results[cls] = class_probability\n",
    "    print(results)\n",
    " \n",
    "if __name__ == \"__main__\":\n",
    "    training   = np.asarray(((0,0,1,0),(0,0,1,1),(1,0,1,0),(2,1,1,0),(2,2,0,0),(2,2,0,1),(1,2,0,1),(0,1,1,0),(0,2,0,0),(2,1,0,0),(0,1,0,1),(1,1,1,1),(1,0,0,0),(2,1,1,1)));\n",
    "    outcome    = np.asarray((0,0,1,1,1,0,1,0,1,1,1,1,1,0))\n",
    "    new_sample = np.asarray((0,2,1,1))\n",
    "    naive_bayes(training, outcome, new_sample)"
   ]
  },
  {
   "cell_type": "markdown",
   "metadata": {},
   "source": [
    "##### Output: \n",
    "#### 0 rounded to 4 decimals is 0.0206\n",
    "#### 1 rounded to 4 decimals is 0.0053"
   ]
  },
  {
   "cell_type": "markdown",
   "metadata": {},
   "source": [
    "### Classifier with words surrounded by quotes"
   ]
  },
  {
   "cell_type": "code",
   "execution_count": 2,
   "metadata": {},
   "outputs": [
    {
     "name": "stdout",
     "output_type": "stream",
     "text": [
      "{'No': 0.02057142857142857, 'Yes': 0.005291005291005291}\n"
     ]
    }
   ],
   "source": [
    "import numpy as np\n",
    "from collections import Counter, defaultdict\n",
    " \n",
    "def occurrences(list1):\n",
    "    no_of_examples = len(list1)\n",
    "    prob = dict(Counter(list1))\n",
    "    for key in prob.keys():\n",
    "        prob[key] = prob[key] / float(no_of_examples)\n",
    "    return prob\n",
    " \n",
    "def naive_bayes(training, outcome, new_sample):\n",
    "    classes     = np.unique(outcome)\n",
    "    rows, cols  = np.shape(training)\n",
    "    likelihoods = {}\n",
    "    for cls in classes:\n",
    "        likelihoods[cls] = defaultdict(list)\n",
    " \n",
    "    class_probabilities = occurrences(outcome)\n",
    " \n",
    "    for cls in classes:\n",
    "        row_indices = np.where(outcome == cls)[0]\n",
    "        subset      = training[row_indices, :]\n",
    "        r, c        = np.shape(subset)\n",
    "        for j in range(0,c):\n",
    "            likelihoods[cls][j] += list(subset[:,j])\n",
    " \n",
    "    for cls in classes:\n",
    "        for j in range(0,cols):\n",
    "             likelihoods[cls][j] = occurrences(likelihoods[cls][j])\n",
    " \n",
    "    results = {}\n",
    "    for cls in classes:\n",
    "         class_probability = class_probabilities[cls]\n",
    "         for i in range(0,len(new_sample)):\n",
    "             relative_values = likelihoods[cls][i]\n",
    "             if new_sample[i] in relative_values.keys():\n",
    "                 class_probability *= relative_values[new_sample[i]]\n",
    "             else:\n",
    "                 class_probability *= 0\n",
    "             results[cls] = class_probability\n",
    "    print(results)\n",
    " \n",
    "if __name__ == \"__main__\":\n",
    "    training   = np.asarray((('Sunny','Hot','High','Weak'),('Sunny','Hot','High','Strong'),('Overcast','Hot','High','Weak'),('Rain','Mild','High','Weak'),('Rain','Cool','Normal','Weak'),('Rain','Cool','Normal','Strong'),('Overcast','Cool','Normal','Strong'),('Sunny','Mild','High','Weak'),('Sunny','Cool','Normal','Weak'),('Rain','Mild','Normal','Weak'),('Sunny','Mild','Normal','Strong'),('Overcast','Mild','High','Strong'),('Overcast','Hot','Normal','Weak'),('Rain','Mild','High','Strong')));\n",
    "    outcome    = np.asarray(('No','No','Yes','Yes','Yes','No','Yes','No','Yes','Yes','Yes','Yes','Yes','No'))\n",
    "    new_sample = np.asarray(('Sunny','Cool','High','Strong'))\n",
    "    naive_bayes(training, outcome, new_sample)"
   ]
  },
  {
   "cell_type": "markdown",
   "metadata": {},
   "source": [
    "##### Output: \n",
    "#### 'No' rounded to 4 decimals is 0.0206\n",
    "#### 'Yes' rounded to 4 decimals is 0.0053"
   ]
  },
  {
   "cell_type": "markdown",
   "metadata": {},
   "source": [
    "Rinda Digamarthi(157742d)"
   ]
  },
  {
   "cell_type": "code",
   "execution_count": null,
   "metadata": {},
   "outputs": [],
   "source": []
  }
 ],
 "metadata": {
  "kernelspec": {
   "display_name": "Python 3 (ipykernel)",
   "language": "python",
   "name": "python3"
  },
  "language_info": {
   "codemirror_mode": {
    "name": "ipython",
    "version": 3
   },
   "file_extension": ".py",
   "mimetype": "text/x-python",
   "name": "python",
   "nbconvert_exporter": "python",
   "pygments_lexer": "ipython3",
   "version": "3.8.0"
  },
  "varInspector": {
   "cols": {
    "lenName": 16,
    "lenType": 16,
    "lenVar": 40
   },
   "kernels_config": {
    "python": {
     "delete_cmd_postfix": "",
     "delete_cmd_prefix": "del ",
     "library": "var_list.py",
     "varRefreshCmd": "print(var_dic_list())"
    },
    "r": {
     "delete_cmd_postfix": ") ",
     "delete_cmd_prefix": "rm(",
     "library": "var_list.r",
     "varRefreshCmd": "cat(var_dic_list()) "
    }
   },
   "types_to_exclude": [
    "module",
    "function",
    "builtin_function_or_method",
    "instance",
    "_Feature"
   ],
   "window_display": false
  }
 },
 "nbformat": 4,
 "nbformat_minor": 4
}
